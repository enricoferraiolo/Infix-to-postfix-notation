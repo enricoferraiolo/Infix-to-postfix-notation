{
 "cells": [
  {
   "cell_type": "markdown",
   "metadata": {
    "id": "uPFPtHankgU8"
   },
   "source": [
    "# Project Description:\n",
    "\n",
    "The purpose of this project is to implement a neural network that performs the translation of mathematical formulae from traditional **infix notation**—where the operator appears between two operands—to **postfix** (also known as Reverse Polish Notation), where the operator follows the operands.\n",
    "\n",
    "Infix notation is the most commonly used in human-readable mathematics (e.g., a + b), but it is inherently ambiguous without additional syntactic aids such as parentheses or operator precedence rules. This ambiguity arises because different parse trees can correspond to the same expression depending on how operations are grouped.\n",
    "\n",
    "In contrast, postfix notation eliminates the need for parentheses entirely. The order of operations is explicitly encoded by the position of the operators relative to the operands, making it more suitable for stack-based evaluation and easier to parse programmatically.\n",
    "\n",
    "**Example:**\n",
    "\n",
    "Consider the ambiguous infix expression:\n",
    "a + b * c\n",
    "\n",
    "This expression can be parsed in at least two different ways:\n",
    "\n",
    "Interpretation (Infix):\t(a + b) * c\t   \n",
    "Equivalent Postfix: ab+c*\n",
    "\n",
    "Interpretation (Infix):\ta + (b * c)\t          \n",
    "Equivalent Postfix: abc*+\n",
    "\n",
    "\n",
    "This project aims to learn such disambiguations and generate the correct postfix form from a given infix expression using a data-driven approach based on neural networks. To simplify the task and control the complexity of expressions, we restrict our dataset to formulae with a maximum syntactic depth of 3. This means that the abstract syntax trees representing these expressions will have at most three levels, ensuring that the neural network operates on a bounded and manageable set of possible structures."
   ]
  },
  {
   "cell_type": "code",
   "execution_count": 1,
   "metadata": {
    "id": "i_tRkF6n6smU"
   },
   "outputs": [
    {
     "name": "stderr",
     "output_type": "stream",
     "text": [
      "2025-06-12 09:06:28.363274: I tensorflow/core/util/port.cc:153] oneDNN custom operations are on. You may see slightly different numerical results due to floating-point round-off errors from different computation orders. To turn them off, set the environment variable `TF_ENABLE_ONEDNN_OPTS=0`.\n",
      "2025-06-12 09:06:28.371765: E external/local_xla/xla/stream_executor/cuda/cuda_fft.cc:467] Unable to register cuFFT factory: Attempting to register factory for plugin cuFFT when one has already been registered\n",
      "WARNING: All log messages before absl::InitializeLog() is called are written to STDERR\n",
      "E0000 00:00:1749711988.381119  227973 cuda_dnn.cc:8579] Unable to register cuDNN factory: Attempting to register factory for plugin cuDNN when one has already been registered\n",
      "E0000 00:00:1749711988.384000  227973 cuda_blas.cc:1407] Unable to register cuBLAS factory: Attempting to register factory for plugin cuBLAS when one has already been registered\n",
      "W0000 00:00:1749711988.392332  227973 computation_placer.cc:177] computation placer already registered. Please check linkage and avoid linking the same target more than once.\n",
      "W0000 00:00:1749711988.392343  227973 computation_placer.cc:177] computation placer already registered. Please check linkage and avoid linking the same target more than once.\n",
      "W0000 00:00:1749711988.392345  227973 computation_placer.cc:177] computation placer already registered. Please check linkage and avoid linking the same target more than once.\n",
      "W0000 00:00:1749711988.392346  227973 computation_placer.cc:177] computation placer already registered. Please check linkage and avoid linking the same target more than once.\n",
      "2025-06-12 09:06:28.395117: I tensorflow/core/platform/cpu_feature_guard.cc:210] This TensorFlow binary is optimized to use available CPU instructions in performance-critical operations.\n",
      "To enable the following instructions: AVX2 AVX512F AVX512_VNNI AVX512_BF16 FMA, in other operations, rebuild TensorFlow with the appropriate compiler flags.\n"
     ]
    }
   ],
   "source": [
    "import numpy as np\n",
    "import random\n",
    "import string\n",
    "import tensorflow as tf\n",
    "from tensorflow.keras import layers, models\n",
    "import matplotlib.pyplot as plt"
   ]
  },
  {
   "cell_type": "markdown",
   "metadata": {
    "id": "QFSHpEHjpa1x"
   },
   "source": [
    "We build formulae using 5 identifiers a,b,c,d,e and 4 binary operators +,-,*,/.\n",
    "For simplicity we do not take advantage of precedence or associativity rules for infix notation, and suppose that all binary operations as always fully parenthesizes: (e1 op e2)."
   ]
  },
  {
   "cell_type": "code",
   "execution_count": 2,
   "metadata": {
    "id": "IINM81OK61pH"
   },
   "outputs": [],
   "source": [
    "# -------------------- Constants --------------------\n",
    "OPERATORS = ['+', '-', '*', '/']\n",
    "IDENTIFIERS = list('abcde')\n",
    "SPECIAL_TOKENS = ['PAD', 'SOS', 'EOS']\n",
    "SYMBOLS = ['(', ')', '+', '-', '*', '/']\n",
    "VOCAB = SPECIAL_TOKENS + SYMBOLS + IDENTIFIERS + ['JUNK'] #may use junk in autoregressive generation\n",
    "\n",
    "token_to_id = {tok: i for i, tok in enumerate(VOCAB)}\n",
    "id_to_token = {i: tok for tok, i in token_to_id.items()}\n",
    "VOCAB_SIZE = len(VOCAB)\n",
    "PAD_ID = token_to_id['PAD']\n",
    "EOS_ID = token_to_id['EOS']\n",
    "SOS_ID = token_to_id['SOS']\n",
    "\n",
    "MAX_DEPTH = 3\n",
    "MAX_LEN = 4*2**MAX_DEPTH -2 #enough to fit expressions at given depth (+ EOS)"
   ]
  },
  {
   "cell_type": "code",
   "execution_count": 3,
   "metadata": {
    "id": "T-fO911d6_FW"
   },
   "outputs": [],
   "source": [
    "# -------------------- Expression Generation --------------------\n",
    "def generate_infix_expression(max_depth):\n",
    "    if max_depth == 0:\n",
    "        return random.choice(IDENTIFIERS)\n",
    "    elif random.random() < 0.5:\n",
    "        return generate_infix_expression(max_depth - 1)\n",
    "    else:\n",
    "        left = generate_infix_expression(max_depth - 1)\n",
    "        right = generate_infix_expression(max_depth - 1)\n",
    "        op = random.choice(OPERATORS)\n",
    "        return f'({left} {op} {right})'\n",
    "\n",
    "def tokenize(expr):\n",
    "    return [c for c in expr if c in token_to_id]\n",
    "\n",
    "def infix_to_postfix(tokens):\n",
    "    precedence = {'+': 1, '-': 1, '*': 2, '/': 2}\n",
    "    output, stack = [], []\n",
    "    for token in tokens:\n",
    "        if token in IDENTIFIERS:\n",
    "            output.append(token)\n",
    "        elif token in OPERATORS:\n",
    "            while stack and stack[-1] in OPERATORS and precedence[stack[-1]] >= precedence[token]:\n",
    "                output.append(stack.pop())\n",
    "            stack.append(token)\n",
    "        elif token == '(':\n",
    "            stack.append(token)\n",
    "        elif token == ')':\n",
    "            while stack and stack[-1] != '(':\n",
    "                output.append(stack.pop())\n",
    "            stack.pop()\n",
    "    while stack:\n",
    "        output.append(stack.pop())\n",
    "    return output\n",
    "\n",
    "def encode(tokens, max_len=MAX_LEN):\n",
    "    ids = [token_to_id[t] for t in tokens] + [EOS_ID]\n",
    "    return ids + [PAD_ID] * (max_len - len(ids))\n",
    "\n",
    "def decode_sequence(token_ids, id_to_token, pad_token='PAD', eos_token='EOS'):\n",
    "    \"\"\"\n",
    "    Converts a list of token IDs into a readable string by decoding tokens.\n",
    "    Stops at the first EOS token if present, and ignores PAD tokens.\n",
    "    \"\"\"\n",
    "    tokens = []\n",
    "    for token_id in token_ids:\n",
    "        token = id_to_token.get(token_id, '?')\n",
    "        if token == eos_token:\n",
    "            break\n",
    "        if token != pad_token:\n",
    "            tokens.append(token)\n",
    "    return ' '.join(tokens)\n",
    "\n",
    "def generate_dataset(n,max_depth=MAX_DEPTH):\n",
    "    X, Y = [], []\n",
    "    for _ in range(n):\n",
    "        expr = generate_infix_expression(MAX_DEPTH)\n",
    "        #expr = expr_gen.generate(max_depth=max_dthep)\n",
    "        infix = tokenize(expr)\n",
    "        postfix = infix_to_postfix(infix)\n",
    "        X.append(encode(infix))\n",
    "        Y.append(encode(postfix))\n",
    "    return np.array(X), np.array(Y)\n",
    "\n",
    "#you might use the shift function for teacher-forcing\n",
    "def shift_right(seqs):\n",
    "    shifted = np.zeros_like(seqs)\n",
    "    shifted[:, 1:] = seqs[:, :-1]\n",
    "    shifted[:, 0] = SOS_ID\n",
    "    return shifted"
   ]
  },
  {
   "cell_type": "markdown",
   "metadata": {
    "id": "DENVmP3Jq5Zf"
   },
   "source": [
    "Let us define a simple dataset, and inspect a few samples."
   ]
  },
  {
   "cell_type": "code",
   "execution_count": 4,
   "metadata": {
    "id": "gdlonKn47dE7"
   },
   "outputs": [],
   "source": [
    "X_train, Y_train = generate_dataset(10000)\n",
    "decoder_input_train = shift_right(Y_train)\n",
    "\n",
    "# Dataset\n",
    "X_val, Y_val = generate_dataset(1000)\n",
    "decoder_input_val = shift_right(Y_val)"
   ]
  },
  {
   "cell_type": "code",
   "execution_count": 5,
   "metadata": {
    "colab": {
     "base_uri": "https://localhost:8080/"
    },
    "id": "TogClrT6F2Th",
    "outputId": "7ef901de-8fe1-4724-870e-d755135aeb0d"
   },
   "outputs": [
    {
     "name": "stdout",
     "output_type": "stream",
     "text": [
      "1061\n",
      "infix :  ( b * ( a - a ) )\n",
      "posfix notation:  b a a - *\n",
      "teacher forcing :  SOS b a a - *\n"
     ]
    }
   ],
   "source": [
    "i =  np.random.randint(10000)\n",
    "print(i)\n",
    "print(\"infix : \",decode_sequence(X_train[i],id_to_token))\n",
    "print(\"posfix notation: \",decode_sequence(Y_train[i],id_to_token))\n",
    "print(\"teacher forcing : \", decode_sequence(decoder_input_train[i],id_to_token))"
   ]
  },
  {
   "cell_type": "markdown",
   "metadata": {
    "id": "MgqDkVaztBuv"
   },
   "source": [
    "# Constraints\n",
    "* You may use any architecture (decoder-only, encoder-decoder, or other).\n",
    "\n",
    "* The maximum number of parameters is 2 million.\n",
    "\n",
    "* Beam search is not allowed.\n",
    "\n",
    "* You may adapt the formula generator to your needs, but preserve its core logic—especially the frequency distribution of formulas by depth, as it may significantly influence model performance.\n",
    "\n",
    "* You may train your model using a pre-generated fixed dataset (e.g., an array) or directly use an on-the-fly generator.\n",
    "\n",
    "\n"
   ]
  },
  {
   "cell_type": "markdown",
   "metadata": {
    "id": "QDUjK4SGvT0s"
   },
   "source": [
    "# Evaluation\n",
    "\n",
    "We shall evaluate a generated item y_pred using \"prefix accuracy\", the lenght of\n",
    "the initial prefix of y_pred matching the ground true y_true. This will be divided by the maximum length of y_true and y_pred (up to EOS), so that a perfect match has score 1.\n",
    "\n",
    "* It's more informative than exact match (which is often 0)\n",
    "\n",
    "* It’s tighter than edit distance: focuses on generation flow\n",
    "\n",
    "* Captures where the model starts to make errors\n",
    "\n"
   ]
  },
  {
   "cell_type": "code",
   "execution_count": 6,
   "metadata": {
    "id": "MeqyasiYxCpU"
   },
   "outputs": [],
   "source": [
    "def prefix_accuracy_single(y_true, y_pred, id_to_token, eos_id=EOS_ID, verbose=False):\n",
    "    t_str = decode_sequence(y_true, id_to_token).split(' EOS')[0]\n",
    "    p_str = decode_sequence(y_pred, id_to_token).split(' EOS')[0]\n",
    "    t_tokens = t_str.strip().split()\n",
    "    p_tokens = p_str.strip().split()\n",
    "    max_len = max(len(t_tokens), len(p_tokens))\n",
    "\n",
    "    match_len = sum(x == y for x, y in zip(t_tokens, p_tokens))\n",
    "    score = match_len / max_len if max_len>0 else 0\n",
    "\n",
    "    if verbose:\n",
    "        print(\"TARGET :\", ' '.join(t_tokens))\n",
    "        print(\"PREDICT:\", ' '.join(p_tokens))\n",
    "        print(f\"PREFIX MATCH: {match_len}/{len(t_tokens)} → {score:.2f}\")\n",
    "\n",
    "    return score"
   ]
  },
  {
   "cell_type": "markdown",
   "metadata": {
    "id": "HeCRiqvsxQax"
   },
   "source": [
    "For the exam, evaluate you model on a test set of 20 expressions. Repeat this evaluation 10 times, and return the mean and std for this rounds."
   ]
  },
  {
   "cell_type": "markdown",
   "metadata": {},
   "source": [
    "## Model\n",
    "For this project I decided to use a simple Transformer-based sequence-to-sequence model for the given task.\n",
    "\n",
    "This architecture is optimal for this type of sequence-to-sequence task, as it can effectively learn the relationships between the input infix expressions and their corresponding postfix representations.\n",
    "\n",
    "I implemented an encoder-decoder architecture which uses my class `PositionalEncoding` to add positional information to the input embeddings.\n",
    "\n",
    "The model is built as follows:\n",
    "\n",
    "**Encoder**:\n",
    "- *Input Layer*: Accepts the tokenized infix expressions.\n",
    "- *Embedding Layer*: Converts tokens into dense vectors.\n",
    "- *Positional Encoding*: Adds positional information to the embeddings using the `PositionalEncoding` class.\n",
    "- *Encoder Block(s)*:\n",
    "    - Multi-Head Self-Attention\n",
    "    - Feed Forward Network\n",
    "    - Layer Normalization\n",
    "\n",
    "**Decoder**:\n",
    "- *Input Layer*: Accepts the tokenized postfix expressions.\n",
    "- *Embedding Layer*: Converts tokens into dense vectors.\n",
    "- *Positional Encoding*: Adds positional information to the embeddings using the `PositionalEncoding` class.\n",
    "- *Decoder Block(s)*:\n",
    "    - Multi-Head Self-Attention\n",
    "    - Encoder-Decoder Attention\n",
    "    - Feed Forward Network\n",
    "    - Layer Normalization\n",
    "\n",
    "**Output**:\n",
    "- *Final Dense Layer*: Final Dense layer with softmax to produce the output tokens.\n",
    "```python\n",
    "# Create the model\n",
    "model = create_transformer_model(\n",
    "    vocab_size=VOCAB_SIZE,\n",
    "    max_len=MAX_LEN,\n",
    "    embedding_dim=64,  # embedding dimension\n",
    "    num_heads=4,  # Number of attention heads\n",
    "    feedforward_dimension=128,  # Feed-forward dimension\n",
    "    num_encoder_layers=1,  # Number of encoder layers\n",
    "    num_decoder_layers=1,  # Number of decoder layers\n",
    ")\n",
    "```\n",
    "These parameters were chosen to keep the model within the 2 million parameter limit and as few as possible, while still allowing it to learn effectively from the dataset. Furthermore I tried different configurations of the model, such as varying the number of layers and attention heads, and found out that this configuration provided a good balance between complexity and performance.\n",
    "\n",
    "The model has a total of *90,447* **parameters**.\n"
   ]
  },
  {
   "cell_type": "code",
   "execution_count": null,
   "metadata": {},
   "outputs": [
    {
     "name": "stdout",
     "output_type": "stream",
     "text": [
      "GPU available\n"
     ]
    },
    {
     "name": "stderr",
     "output_type": "stream",
     "text": [
      "I0000 00:00:1749711989.689237  227973 gpu_device.cc:2019] Created device /job:localhost/replica:0/task:0/device:GPU:0 with 5804 MB memory:  -> device: 0, name: NVIDIA GeForce RTX 4060, pci bus id: 0000:01:00.0, compute capability: 8.9\n"
     ]
    },
    {
     "name": "stdout",
     "output_type": "stream",
     "text": [
      "Total parameters: 90,447\n",
      "Vocabulary size: 15\n",
      "Max sequence length: 30\n"
     ]
    },
    {
     "name": "stderr",
     "output_type": "stream",
     "text": [
      "/home/enrico/Desktop/Infix-to-postfix-notation/.venv/lib/python3.12/site-packages/keras/src/layers/layer.py:965: UserWarning: Layer 'positional_encoding' (of type PositionalEncoding) was passed an input with a mask attached to it. However, this layer does not support masking and will therefore destroy the mask information. Downstream layers will not see the mask.\n",
      "  warnings.warn(\n",
      "/home/enrico/Desktop/Infix-to-postfix-notation/.venv/lib/python3.12/site-packages/keras/src/layers/layer.py:965: UserWarning: Layer 'positional_encoding_1' (of type PositionalEncoding) was passed an input with a mask attached to it. However, this layer does not support masking and will therefore destroy the mask information. Downstream layers will not see the mask.\n",
      "  warnings.warn(\n"
     ]
    }
   ],
   "source": [
    "class PositionalEncoding(layers.Layer):\n",
    "    \"\"\"\n",
    "    Positional Encoding Layer for adding positional information to input embeddings.\n",
    "    \"\"\"\n",
    "\n",
    "    def __init__(self, max_len, d_model):\n",
    "        super().__init__()\n",
    "        self.d_model = d_model\n",
    "        self.max_len = max_len\n",
    "\n",
    "    def build(self, input_shape):\n",
    "        # Create positional encoding matrix\n",
    "        pe = np.zeros((self.max_len, self.d_model))\n",
    "        position = np.arange(0, self.max_len)[:, np.newaxis]\n",
    "        div_term = np.exp(\n",
    "            np.arange(0, self.d_model, 2) * -(np.log(10000.0) / self.d_model)\n",
    "        )\n",
    "\n",
    "        pe[:, 0::2] = np.sin(position * div_term)\n",
    "        pe[:, 1::2] = np.cos(position * div_term)\n",
    "\n",
    "        self.pe = self.add_weight(\n",
    "            name=\"positional_encoding\",\n",
    "            shape=(self.max_len, self.d_model),\n",
    "            initializer=\"zeros\",\n",
    "            trainable=False,\n",
    "        )\n",
    "        self.pe.assign(pe)\n",
    "\n",
    "    def call(self, x):\n",
    "        seq_len = tf.shape(x)[1]\n",
    "        return x + self.pe[:seq_len, :]\n",
    "\n",
    "\n",
    "def create_transformer_model(\n",
    "    vocab_size=VOCAB_SIZE,\n",
    "    max_len=MAX_LEN,\n",
    "    embedding_dim=64,\n",
    "    num_heads=4,\n",
    "    feedforward_dimension=128,\n",
    "    num_encoder_layers=2,\n",
    "    num_decoder_layers=2,\n",
    "):\n",
    "    \"\"\"\n",
    "    Create the Transformer model architecture.\n",
    "    \"\"\"\n",
    "\n",
    "    # INPUTS\n",
    "    encoder_inputs = layers.Input(shape=(max_len,), name=\"encoder_inputs\")\n",
    "    decoder_inputs = layers.Input(shape=(max_len,), name=\"decoder_inputs\")\n",
    "\n",
    "    # EMBEDDING + POSITIONAL ENCODING\n",
    "    encoder_embedding = layers.Embedding(vocab_size, embedding_dim, mask_zero=True)(\n",
    "        encoder_inputs\n",
    "    )\n",
    "    encoder_pos_encoding = PositionalEncoding(max_len, embedding_dim)(encoder_embedding)\n",
    "    encoder_output = layers.Dropout(0.1)(encoder_pos_encoding)\n",
    "\n",
    "    decoder_embedding = layers.Embedding(vocab_size, embedding_dim, mask_zero=True)(\n",
    "        decoder_inputs\n",
    "    )\n",
    "    decoder_pos_encoding = PositionalEncoding(max_len, embedding_dim)(decoder_embedding)\n",
    "    decoder_output = layers.Dropout(0.1)(decoder_pos_encoding)\n",
    "\n",
    "    # ENCODER STACK\n",
    "    for _ in range(num_encoder_layers):\n",
    "        # Multi-head self-attention\n",
    "        attn_out = layers.MultiHeadAttention(\n",
    "            num_heads=num_heads, key_dim=embedding_dim // num_heads, dropout=0.1\n",
    "        )(encoder_output, encoder_output)\n",
    "        attn_out = layers.Dropout(0.1)(attn_out)\n",
    "        encoder_output = layers.LayerNormalization()(encoder_output + attn_out)\n",
    "\n",
    "        # Feed-forward\n",
    "        ffn = layers.Dense(feedforward_dimension, activation=\"relu\")(encoder_output)\n",
    "        ffn = layers.Dense(embedding_dim)(ffn)\n",
    "        ffn = layers.Dropout(0.1)(ffn)\n",
    "        encoder_output = layers.LayerNormalization()(encoder_output + ffn)\n",
    "\n",
    "    # DECODER STACK\n",
    "    for _ in range(num_decoder_layers):\n",
    "        # Masked self-attention (causal)\n",
    "        self_attn = layers.MultiHeadAttention(\n",
    "            num_heads=num_heads, key_dim=embedding_dim // num_heads, dropout=0.1\n",
    "        )(decoder_output, decoder_output, use_causal_mask=True)\n",
    "        self_attn = layers.Dropout(0.1)(self_attn)\n",
    "        decoder_output = layers.LayerNormalization()(decoder_output + self_attn)\n",
    "\n",
    "        # Cross-attention encoder->decoder\n",
    "        cross_attn = layers.MultiHeadAttention(\n",
    "            num_heads=num_heads, key_dim=embedding_dim // num_heads, dropout=0.1\n",
    "        )(decoder_output, encoder_output)\n",
    "        cross_attn = layers.Dropout(0.1)(cross_attn)\n",
    "        decoder_output = layers.LayerNormalization()(decoder_output + cross_attn)\n",
    "\n",
    "        # Feed-forward\n",
    "        ffn_dec = layers.Dense(feedforward_dimension, activation=\"relu\")(decoder_output)\n",
    "        ffn_dec = layers.Dense(embedding_dim)(ffn_dec)\n",
    "        ffn_dec = layers.Dropout(0.1)(ffn_dec)\n",
    "        decoder_output = layers.LayerNormalization()(decoder_output + ffn_dec)\n",
    "\n",
    "    # OUTPUT LAYER\n",
    "    outputs = layers.Dense(vocab_size, activation=\"softmax\")(decoder_output)\n",
    "\n",
    "    model = models.Model([encoder_inputs, decoder_inputs], outputs)\n",
    "    return model\n",
    "\n",
    "\n",
    "\n",
    "# Check if GPU is available\n",
    "gpus = tf.config.list_physical_devices(\"GPU\")\n",
    "if gpus:\n",
    "    print(\"GPU available\")\n",
    "else:\n",
    "    print(\"No GPU available, using CPU\")\n",
    "\n",
    "# Create the model\n",
    "model = create_transformer_model(\n",
    "    vocab_size=VOCAB_SIZE,\n",
    "    max_len=MAX_LEN,\n",
    "    embedding_dim=64,  # Embedding dimension\n",
    "    num_heads=4,  # Number of attention heads\n",
    "    feedforward_dimension=128,  # Feed-forward dimension\n",
    "    num_encoder_layers=1,  # Number of encoder layers\n",
    "    num_decoder_layers=1,  # Number of decoder layers\n",
    ")\n",
    "\n",
    "# Summary\n",
    "# model.summary()\n",
    "\n",
    "# Compile the model\n",
    "model.compile(\n",
    "    optimizer=tf.keras.optimizers.Adam(learning_rate=0.001),\n",
    "    loss=\"sparse_categorical_crossentropy\",\n",
    "    metrics=[\"accuracy\"],\n",
    ")\n",
    "\n",
    "print(f\"Total parameters: {model.count_params():,}\")\n",
    "print(f\"Vocabulary size: {VOCAB_SIZE}\")\n",
    "print(f\"Max sequence length: {MAX_LEN}\")"
   ]
  },
  {
   "cell_type": "markdown",
   "metadata": {},
   "source": [
    "## Training\n",
    "In the next part of code I trained the model using the Adam optimizer with a learning rate of 0.001 and a batch size of 32 over a total of 50 epochs and `generate_dataset(MAX_DATASET_SIZE)` function to generate the dataset containing `MAX_DATASET_SIZE` samples, in this case I used 10,000 samples.\n",
    "\n",
    "\n",
    "I also used an `EarlyStopping` callback to monitor the `val_accuracy` metric and stop the training if it does not improve for 5 consecutive epochs.\n",
    "\n",
    "I used the `SparseCategoricalCrossentropy` loss function, which is suitable for sequence generation tasks where the target is a sequence of tokens.\n",
    "\n",
    "I also used the `gdown` library to download the weights of the model from my own Google Drive, but you can also train the model yourself from scratch by just setting `LOAD_WEIGHTS` to false.\n",
    "\n",
    "\n",
    "I uploaded on Google Drive at this [link](https://drive.google.com/uc?id=1XDBmXJ6WarbWKhmCDKrUEVB2yqDuQ-EZ) the weights of the model trained until epoch 25, restoring the best model's weights which were found at epoch 20.\n",
    "\n",
    "**Epoch 20 details**:\n",
    "- **accuracy**: *0.9973*\n",
    "- **loss**: *0.0084*\n",
    "- **val_accuracy**: *1.0000*\n",
    "- **val_loss**: *1.5021e-04*\n"
   ]
  },
  {
   "cell_type": "code",
   "execution_count": 8,
   "metadata": {},
   "outputs": [
    {
     "name": "stdout",
     "output_type": "stream",
     "text": [
      "Loading pre-trained weights\n",
      "Pre-trained weights not found - downloading...\n"
     ]
    },
    {
     "name": "stderr",
     "output_type": "stream",
     "text": [
      "Downloading...\n",
      "From: https://drive.google.com/uc?id=1XDBmXJ6WarbWKhmCDKrUEVB2yqDuQ-EZ\n",
      "To: /home/enrico/Desktop/Infix-to-postfix-notation/transformer_model.weights.h5\n",
      "100%|██████████| 1.20M/1.20M [00:00<00:00, 6.75MB/s]\n"
     ]
    },
    {
     "name": "stdout",
     "output_type": "stream",
     "text": [
      "Loaded pre-trained weights.\n"
     ]
    },
    {
     "name": "stderr",
     "output_type": "stream",
     "text": [
      "/home/enrico/Desktop/Infix-to-postfix-notation/.venv/lib/python3.12/site-packages/keras/src/saving/saving_lib.py:802: UserWarning: Skipping variable loading for optimizer 'adam', because it has 2 variables whereas the saved optimizer has 94 variables. \n",
      "  saveable.load_own_variables(weights_store.get(inner_path))\n"
     ]
    }
   ],
   "source": [
    "# Load the model\n",
    "LOAD_WEIGHTS = True  # If False, proceed to train the model, otherwise load pre-trained weights\n",
    "WEIGHTS_PATH = \"transformer_model.weights.h5\"\n",
    "\n",
    "if LOAD_WEIGHTS:\n",
    "    print(\"Loading pre-trained weights\")\n",
    "\n",
    "    # Use gdown to download pre-trained weights\n",
    "    import gdown\n",
    "    import os\n",
    "\n",
    "    WEIGHTS_URL = (\n",
    "        \"https://drive.google.com/uc?id=1XDBmXJ6WarbWKhmCDKrUEVB2yqDuQ-EZ\"\n",
    "    )\n",
    "    if not os.path.exists(WEIGHTS_PATH):\n",
    "        print(\"Pre-trained weights not found - downloading...\")\n",
    "        gdown.download(WEIGHTS_URL, WEIGHTS_PATH, quiet=False)\n",
    "    model.load_weights(WEIGHTS_PATH)\n",
    "    print(\"Loaded pre-trained weights.\")\n",
    "else:\n",
    "    print(\"Not loading pre-trained weights\")"
   ]
  },
  {
   "cell_type": "code",
   "execution_count": 9,
   "metadata": {},
   "outputs": [
    {
     "name": "stdout",
     "output_type": "stream",
     "text": [
      "Training samples: 10000\n",
      "Validation samples: 10000\n",
      "Input shape: (10000, 30)\n",
      "Output shape: (10000, 30)\n",
      "Decoder input shape: (10000, 30)\n",
      "Epoch 1/50\n"
     ]
    },
    {
     "name": "stderr",
     "output_type": "stream",
     "text": [
      "WARNING: All log messages before absl::InitializeLog() is called are written to STDERR\n",
      "I0000 00:00:1749711197.336138  187830 service.cc:152] XLA service 0x7b93f80260b0 initialized for platform CUDA (this does not guarantee that XLA will be used). Devices:\n",
      "I0000 00:00:1749711197.336151  187830 service.cc:160]   StreamExecutor device (0): NVIDIA GeForce RTX 4060, Compute Capability 8.9\n",
      "2025-06-12 08:53:17.417278: I tensorflow/compiler/mlir/tensorflow/utils/dump_mlir_util.cc:269] disabling MLIR crash reproducer, set env var `MLIR_CRASH_REPRODUCER_DIRECTORY` to enable.\n",
      "2025-06-12 08:53:17.620378: W tensorflow/compiler/tf2xla/kernels/assert_op.cc:39] Ignoring Assert operator compile_loss/sparse_categorical_crossentropy/SparseSoftmaxCrossEntropyWithLogits/assert_equal_1/Assert/Assert\n",
      "I0000 00:00:1749711197.882078  187830 cuda_dnn.cc:529] Loaded cuDNN version 90300\n",
      "2025-06-12 08:53:19.011023: I external/local_xla/xla/stream_executor/cuda/subprocess_compilation.cc:346] ptxas warning : Registers are spilled to local memory in function 'gemm_fusion_dot_10', 8 bytes spill stores, 8 bytes spill loads\n",
      "\n",
      "2025-06-12 08:53:19.077567: I external/local_xla/xla/stream_executor/cuda/subprocess_compilation.cc:346] ptxas warning : Registers are spilled to local memory in function 'gemm_fusion_dot_10', 12 bytes spill stores, 12 bytes spill loads\n",
      "\n",
      "2025-06-12 08:53:19.110174: I external/local_xla/xla/stream_executor/cuda/subprocess_compilation.cc:346] ptxas warning : Registers are spilled to local memory in function 'gemm_fusion_dot_10', 112 bytes spill stores, 112 bytes spill loads\n",
      "\n",
      "2025-06-12 08:53:19.591000: I external/local_xla/xla/stream_executor/cuda/subprocess_compilation.cc:346] ptxas warning : Registers are spilled to local memory in function 'gemm_fusion_dot_10', 216 bytes spill stores, 220 bytes spill loads\n",
      "\n",
      "2025-06-12 08:53:19.927855: I external/local_xla/xla/stream_executor/cuda/subprocess_compilation.cc:346] ptxas warning : Registers are spilled to local memory in function 'gemm_fusion_dot_18', 352 bytes spill stores, 352 bytes spill loads\n",
      "\n",
      "2025-06-12 08:53:20.260127: I external/local_xla/xla/stream_executor/cuda/subprocess_compilation.cc:346] ptxas warning : Registers are spilled to local memory in function 'gemm_fusion_dot_69', 12 bytes spill stores, 12 bytes spill loads\n",
      "\n",
      "2025-06-12 08:53:21.068310: I external/local_xla/xla/stream_executor/cuda/subprocess_compilation.cc:346] ptxas warning : Registers are spilled to local memory in function 'gemm_fusion_dot_18', 312 bytes spill stores, 312 bytes spill loads\n",
      "\n"
     ]
    },
    {
     "name": "stdout",
     "output_type": "stream",
     "text": [
      "\u001b[1m 92/313\u001b[0m \u001b[32m━━━━━\u001b[0m\u001b[37m━━━━━━━━━━━━━━━\u001b[0m \u001b[1m0s\u001b[0m 2ms/step - accuracy: 0.7214 - loss: 1.0506"
     ]
    },
    {
     "name": "stderr",
     "output_type": "stream",
     "text": [
      "I0000 00:00:1749711206.034127  187830 device_compiler.h:188] Compiled cluster using XLA!  This line is logged at most once for the lifetime of the process.\n"
     ]
    },
    {
     "name": "stdout",
     "output_type": "stream",
     "text": [
      "\u001b[1m281/313\u001b[0m \u001b[32m━━━━━━━━━━━━━━━━━\u001b[0m\u001b[37m━━━\u001b[0m \u001b[1m0s\u001b[0m 2ms/step - accuracy: 0.7798 - loss: 0.7339"
     ]
    },
    {
     "name": "stderr",
     "output_type": "stream",
     "text": [
      "2025-06-12 08:53:26.764668: W tensorflow/compiler/tf2xla/kernels/assert_op.cc:39] Ignoring Assert operator compile_loss/sparse_categorical_crossentropy/SparseSoftmaxCrossEntropyWithLogits/assert_equal_1/Assert/Assert\n",
      "2025-06-12 08:53:27.941854: I external/local_xla/xla/stream_executor/cuda/subprocess_compilation.cc:346] ptxas warning : Registers are spilled to local memory in function 'gemm_fusion_dot_10', 216 bytes spill stores, 220 bytes spill loads\n",
      "\n",
      "2025-06-12 08:53:28.355840: I external/local_xla/xla/stream_executor/cuda/subprocess_compilation.cc:346] ptxas warning : Registers are spilled to local memory in function 'gemm_fusion_dot_10', 132 bytes spill stores, 132 bytes spill loads\n",
      "\n",
      "2025-06-12 08:53:28.457310: I external/local_xla/xla/stream_executor/cuda/subprocess_compilation.cc:346] ptxas warning : Registers are spilled to local memory in function 'gemm_fusion_dot_10', 12 bytes spill stores, 12 bytes spill loads\n",
      "\n",
      "2025-06-12 08:53:28.895463: I external/local_xla/xla/stream_executor/cuda/subprocess_compilation.cc:346] ptxas warning : Registers are spilled to local memory in function 'gemm_fusion_dot_69', 12 bytes spill stores, 12 bytes spill loads\n",
      "\n",
      "2025-06-12 08:53:29.983838: I external/local_xla/xla/stream_executor/cuda/subprocess_compilation.cc:346] ptxas warning : Registers are spilled to local memory in function 'gemm_fusion_dot_18', 312 bytes spill stores, 312 bytes spill loads\n",
      "\n",
      "2025-06-12 08:53:29.998595: I external/local_xla/xla/stream_executor/cuda/subprocess_compilation.cc:346] ptxas warning : Registers are spilled to local memory in function 'gemm_fusion_dot_18', 352 bytes spill stores, 352 bytes spill loads\n",
      "\n"
     ]
    },
    {
     "name": "stdout",
     "output_type": "stream",
     "text": [
      "\u001b[1m313/313\u001b[0m \u001b[32m━━━━━━━━━━━━━━━━━━━━\u001b[0m\u001b[37m\u001b[0m \u001b[1m0s\u001b[0m 27ms/step - accuracy: 0.7844 - loss: 0.7097"
     ]
    },
    {
     "name": "stderr",
     "output_type": "stream",
     "text": [
      "2025-06-12 08:53:34.573832: W tensorflow/compiler/tf2xla/kernels/assert_op.cc:39] Ignoring Assert operator compile_loss/sparse_categorical_crossentropy/SparseSoftmaxCrossEntropyWithLogits/assert_equal_1/Assert/Assert\n",
      "2025-06-12 08:53:35.975018: W tensorflow/compiler/tf2xla/kernels/assert_op.cc:39] Ignoring Assert operator compile_loss/sparse_categorical_crossentropy/SparseSoftmaxCrossEntropyWithLogits/assert_equal_1/Assert/Assert\n"
     ]
    },
    {
     "name": "stdout",
     "output_type": "stream",
     "text": [
      "\u001b[1m313/313\u001b[0m \u001b[32m━━━━━━━━━━━━━━━━━━━━\u001b[0m\u001b[37m\u001b[0m \u001b[1m22s\u001b[0m 35ms/step - accuracy: 0.7846 - loss: 0.7090 - val_accuracy: 0.8991 - val_loss: 0.2673\n",
      "Epoch 2/50\n",
      "\u001b[1m313/313\u001b[0m \u001b[32m━━━━━━━━━━━━━━━━━━━━\u001b[0m\u001b[37m\u001b[0m \u001b[1m1s\u001b[0m 2ms/step - accuracy: 0.9107 - loss: 0.2317 - val_accuracy: 0.9625 - val_loss: 0.0931\n",
      "Epoch 3/50\n",
      "\u001b[1m313/313\u001b[0m \u001b[32m━━━━━━━━━━━━━━━━━━━━\u001b[0m\u001b[37m\u001b[0m \u001b[1m1s\u001b[0m 3ms/step - accuracy: 0.9642 - loss: 0.0948 - val_accuracy: 0.9935 - val_loss: 0.0176\n",
      "Epoch 4/50\n",
      "\u001b[1m313/313\u001b[0m \u001b[32m━━━━━━━━━━━━━━━━━━━━\u001b[0m\u001b[37m\u001b[0m \u001b[1m1s\u001b[0m 2ms/step - accuracy: 0.9855 - loss: 0.0423 - val_accuracy: 0.9959 - val_loss: 0.0108\n",
      "Epoch 5/50\n",
      "\u001b[1m313/313\u001b[0m \u001b[32m━━━━━━━━━━━━━━━━━━━━\u001b[0m\u001b[37m\u001b[0m \u001b[1m1s\u001b[0m 2ms/step - accuracy: 0.9901 - loss: 0.0302 - val_accuracy: 0.9971 - val_loss: 0.0076\n",
      "Epoch 6/50\n",
      "\u001b[1m313/313\u001b[0m \u001b[32m━━━━━━━━━━━━━━━━━━━━\u001b[0m\u001b[37m\u001b[0m \u001b[1m1s\u001b[0m 2ms/step - accuracy: 0.9916 - loss: 0.0255 - val_accuracy: 0.9973 - val_loss: 0.0072\n",
      "Epoch 7/50\n",
      "\u001b[1m313/313\u001b[0m \u001b[32m━━━━━━━━━━━━━━━━━━━━\u001b[0m\u001b[37m\u001b[0m \u001b[1m1s\u001b[0m 2ms/step - accuracy: 0.9927 - loss: 0.0216 - val_accuracy: 0.9988 - val_loss: 0.0038\n",
      "Epoch 8/50\n",
      "\u001b[1m313/313\u001b[0m \u001b[32m━━━━━━━━━━━━━━━━━━━━\u001b[0m\u001b[37m\u001b[0m \u001b[1m1s\u001b[0m 2ms/step - accuracy: 0.9942 - loss: 0.0182 - val_accuracy: 0.9992 - val_loss: 0.0026\n",
      "Epoch 9/50\n",
      "\u001b[1m313/313\u001b[0m \u001b[32m━━━━━━━━━━━━━━━━━━━━\u001b[0m\u001b[37m\u001b[0m \u001b[1m1s\u001b[0m 2ms/step - accuracy: 0.9948 - loss: 0.0165 - val_accuracy: 0.9993 - val_loss: 0.0024\n",
      "Epoch 10/50\n",
      "\u001b[1m313/313\u001b[0m \u001b[32m━━━━━━━━━━━━━━━━━━━━\u001b[0m\u001b[37m\u001b[0m \u001b[1m1s\u001b[0m 2ms/step - accuracy: 0.9952 - loss: 0.0150 - val_accuracy: 0.9997 - val_loss: 0.0015\n",
      "Epoch 11/50\n",
      "\u001b[1m313/313\u001b[0m \u001b[32m━━━━━━━━━━━━━━━━━━━━\u001b[0m\u001b[37m\u001b[0m \u001b[1m1s\u001b[0m 2ms/step - accuracy: 0.9959 - loss: 0.0131 - val_accuracy: 0.9998 - val_loss: 0.0013\n",
      "Epoch 12/50\n",
      "\u001b[1m313/313\u001b[0m \u001b[32m━━━━━━━━━━━━━━━━━━━━\u001b[0m\u001b[37m\u001b[0m \u001b[1m1s\u001b[0m 2ms/step - accuracy: 0.9960 - loss: 0.0130 - val_accuracy: 0.9998 - val_loss: 0.0011\n",
      "Epoch 13/50\n",
      "\u001b[1m313/313\u001b[0m \u001b[32m━━━━━━━━━━━━━━━━━━━━\u001b[0m\u001b[37m\u001b[0m \u001b[1m1s\u001b[0m 2ms/step - accuracy: 0.9959 - loss: 0.0125 - val_accuracy: 0.9999 - val_loss: 6.1036e-04\n",
      "Epoch 14/50\n",
      "\u001b[1m313/313\u001b[0m \u001b[32m━━━━━━━━━━━━━━━━━━━━\u001b[0m\u001b[37m\u001b[0m \u001b[1m1s\u001b[0m 3ms/step - accuracy: 0.9967 - loss: 0.0103 - val_accuracy: 0.9999 - val_loss: 5.7276e-04\n",
      "Epoch 15/50\n",
      "\u001b[1m313/313\u001b[0m \u001b[32m━━━━━━━━━━━━━━━━━━━━\u001b[0m\u001b[37m\u001b[0m \u001b[1m1s\u001b[0m 2ms/step - accuracy: 0.9970 - loss: 0.0097 - val_accuracy: 0.9999 - val_loss: 6.6436e-04\n",
      "Epoch 16/50\n",
      "\u001b[1m313/313\u001b[0m \u001b[32m━━━━━━━━━━━━━━━━━━━━\u001b[0m\u001b[37m\u001b[0m \u001b[1m1s\u001b[0m 2ms/step - accuracy: 0.9970 - loss: 0.0096 - val_accuracy: 0.9998 - val_loss: 7.4491e-04\n",
      "Epoch 17/50\n",
      "\u001b[1m313/313\u001b[0m \u001b[32m━━━━━━━━━━━━━━━━━━━━\u001b[0m\u001b[37m\u001b[0m \u001b[1m1s\u001b[0m 3ms/step - accuracy: 0.9971 - loss: 0.0098 - val_accuracy: 1.0000 - val_loss: 3.4745e-04\n",
      "Epoch 18/50\n",
      "\u001b[1m313/313\u001b[0m \u001b[32m━━━━━━━━━━━━━━━━━━━━\u001b[0m\u001b[37m\u001b[0m \u001b[1m1s\u001b[0m 2ms/step - accuracy: 0.9973 - loss: 0.0089 - val_accuracy: 0.9999 - val_loss: 3.3685e-04\n",
      "Epoch 19/50\n",
      "\u001b[1m313/313\u001b[0m \u001b[32m━━━━━━━━━━━━━━━━━━━━\u001b[0m\u001b[37m\u001b[0m \u001b[1m1s\u001b[0m 2ms/step - accuracy: 0.9975 - loss: 0.0079 - val_accuracy: 0.9997 - val_loss: 8.5193e-04\n",
      "Epoch 20/50\n",
      "\u001b[1m313/313\u001b[0m \u001b[32m━━━━━━━━━━━━━━━━━━━━\u001b[0m\u001b[37m\u001b[0m \u001b[1m1s\u001b[0m 3ms/step - accuracy: 0.9973 - loss: 0.0084 - val_accuracy: 1.0000 - val_loss: 1.5021e-04\n",
      "Epoch 21/50\n",
      "\u001b[1m313/313\u001b[0m \u001b[32m━━━━━━━━━━━━━━━━━━━━\u001b[0m\u001b[37m\u001b[0m \u001b[1m1s\u001b[0m 2ms/step - accuracy: 0.9974 - loss: 0.0081 - val_accuracy: 0.9998 - val_loss: 6.6889e-04\n",
      "Epoch 22/50\n",
      "\u001b[1m313/313\u001b[0m \u001b[32m━━━━━━━━━━━━━━━━━━━━\u001b[0m\u001b[37m\u001b[0m \u001b[1m1s\u001b[0m 2ms/step - accuracy: 0.9978 - loss: 0.0070 - val_accuracy: 1.0000 - val_loss: 1.5179e-04\n",
      "Epoch 23/50\n",
      "\u001b[1m313/313\u001b[0m \u001b[32m━━━━━━━━━━━━━━━━━━━━\u001b[0m\u001b[37m\u001b[0m \u001b[1m1s\u001b[0m 2ms/step - accuracy: 0.9979 - loss: 0.0072 - val_accuracy: 0.9999 - val_loss: 5.0580e-04\n",
      "Epoch 24/50\n",
      "\u001b[1m313/313\u001b[0m \u001b[32m━━━━━━━━━━━━━━━━━━━━\u001b[0m\u001b[37m\u001b[0m \u001b[1m1s\u001b[0m 2ms/step - accuracy: 0.9977 - loss: 0.0071 - val_accuracy: 1.0000 - val_loss: 1.4654e-04\n",
      "Epoch 25/50\n",
      "\u001b[1m313/313\u001b[0m \u001b[32m━━━━━━━━━━━━━━━━━━━━\u001b[0m\u001b[37m\u001b[0m \u001b[1m1s\u001b[0m 2ms/step - accuracy: 0.9978 - loss: 0.0070 - val_accuracy: 1.0000 - val_loss: 1.1864e-04\n",
      "Epoch 25: early stopping\n",
      "Restoring model weights from the end of the best epoch: 20.\n"
     ]
    },
    {
     "data": {
      "image/png": "[encoded data removed]",
      "text/plain": [
       "<Figure size 1200x400 with 1 Axes>"
      ]
     },
     "metadata": {},
     "output_type": "display_data"
    },
    {
     "data": {
      "image/png": "[encoded data removed]",
      "text/plain": [
       "<Figure size 1200x400 with 1 Axes>"
      ]
     },
     "metadata": {},
     "output_type": "display_data"
    },
    {
     "name": "stdout",
     "output_type": "stream",
     "text": [
      "Final training loss: 0.0068\n",
      "Final validation loss: 0.0001\n",
      "Final training accuracy: 0.9979\n",
      "Final validation accuracy: 1.0000\n"
     ]
    }
   ],
   "source": [
    "MAX_DATASET_SIZE = 10000  # Maximum dataset size\n",
    "batch_size = 32\n",
    "epochs = 50  # 50 epochs because we use early stopping\n",
    "\n",
    "# Training dataset\n",
    "X_train, Y_train = generate_dataset(MAX_DATASET_SIZE)\n",
    "decoder_input_train = shift_right(Y_train)\n",
    "\n",
    "# Validation dataset\n",
    "X_val, Y_val = generate_dataset(MAX_DATASET_SIZE)\n",
    "decoder_input_val = shift_right(Y_val)\n",
    "\n",
    "print(f\"Training samples: {len(X_train)}\")\n",
    "print(f\"Validation samples: {len(X_val)}\")\n",
    "print(f\"Input shape: {X_train.shape}\")\n",
    "print(f\"Output shape: {Y_train.shape}\")\n",
    "print(f\"Decoder input shape: {decoder_input_train.shape}\")\n",
    "\n",
    "# Early stopping callback to prevent overfitting\n",
    "from tensorflow.keras import callbacks\n",
    "\n",
    "early_stop = callbacks.EarlyStopping(\n",
    "    monitor=\"val_accuracy\", patience=5, verbose=1, restore_best_weights=True\n",
    ")\n",
    "\n",
    "def make_dataset(X, decoder_input, Y, batch_size):\n",
    "    dataset = tf.data.Dataset.from_tensor_slices(((X, decoder_input), Y))\n",
    "    return dataset.shuffle(1024).batch(batch_size).prefetch(tf.data.AUTOTUNE)\n",
    "\n",
    "train_dataset = make_dataset(X_train, decoder_input_train, Y_train, batch_size)\n",
    "val_dataset = make_dataset(X_val, decoder_input_val, Y_val, batch_size)\n",
    "\n",
    "if not LOAD_WEIGHTS:\n",
    "    # Train the model\n",
    "    history = model.fit(\n",
    "        train_dataset,\n",
    "        validation_data=val_dataset,\n",
    "        epochs=epochs,\n",
    "        callbacks=[early_stop],\n",
    "        verbose=1,\n",
    "    )\n",
    "\n",
    "    # Plot training history\n",
    "    import matplotlib.pyplot as plt\n",
    "\n",
    "    plt.figure(figsize=(12, 4))\n",
    "    plt.plot(history.history[\"loss\"], label=\"Training Loss\")\n",
    "    plt.plot(history.history[\"val_loss\"], label=\"Validation Loss\")\n",
    "    plt.title(\"Model Loss\")\n",
    "    plt.xlabel(\"Epoch\")\n",
    "    plt.ylabel(\"Loss\")\n",
    "    plt.semilogy()  # Use semilogy for better visibility of loss\n",
    "    plt.grid()\n",
    "    plt.legend()\n",
    "    plt.show()\n",
    "\n",
    "    plt.figure(figsize=(12, 4))\n",
    "    plt.plot(history.history[\"accuracy\"], label=\"Training Accuracy\")\n",
    "    plt.plot(history.history[\"val_accuracy\"], label=\"Validation Accuracy\")\n",
    "    plt.title(\"Model Accuracy\")\n",
    "    plt.xlabel(\"Epoch\")\n",
    "    plt.ylabel(\"Accuracy\")\n",
    "    plt.grid()\n",
    "    plt.legend()\n",
    "    plt.tight_layout()\n",
    "    plt.semilogy()  # Use semilogy for better visibility of accuracy\n",
    "    plt.show()\n",
    "\n",
    "    print(f\"Final training loss: {history.history['loss'][-1]:.4f}\")\n",
    "    print(f\"Final validation loss: {history.history['val_loss'][-1]:.4f}\")\n",
    "    print(f\"Final training accuracy: {history.history['accuracy'][-1]:.4f}\")\n",
    "    print(f\"Final validation accuracy: {history.history['val_accuracy'][-1]:.4f}\")"
   ]
  },
  {
   "cell_type": "markdown",
   "metadata": {},
   "source": [
    "### Saving the model's weights\n",
    "If you want to save the model's weights after training, you can use set `LOAD_WEIGHTS` to `True` and run the code below."
   ]
  },
  {
   "cell_type": "code",
   "execution_count": null,
   "metadata": {},
   "outputs": [
    {
     "name": "stdout",
     "output_type": "stream",
     "text": [
      "Model weights saved to 'transformer_model.weights.h5'.\n"
     ]
    }
   ],
   "source": [
    "SAVE_WEIGHTS = False\n",
    "# Save weights\n",
    "if SAVE_WEIGHTS:\n",
    "    model.save_weights(WEIGHTS_PATH)\n",
    "    print(f\"Model weights saved to '{WEIGHTS_PATH}'.\")"
   ]
  },
  {
   "cell_type": "markdown",
   "metadata": {},
   "source": [
    "### Evaluation.\n",
    "For the evaluation process I implemented the function `autoregressive_decode` which performs autoregressive decoding to generate the postfix expression from the infix expression. This function uses the trained model to predict the next token in the sequence until it reaches the end of the sequence (EOS) token."
   ]
  },
  {
   "cell_type": "code",
   "execution_count": 11,
   "metadata": {},
   "outputs": [],
   "source": [
    "def autoregressive_decode(model, encoder_input, max_len=MAX_LEN):\n",
    "    \"\"\"\n",
    "    Autoregressively decode a sequence using the trained model.\n",
    "    \"\"\"\n",
    "    encoder_input = np.expand_dims(encoder_input, axis=0)  # shape (1, seq_len)\n",
    "    decoder_input = np.array([[SOS_ID]])  # start with SOS token\n",
    "\n",
    "    for _ in range(max_len):\n",
    "        predictions = model.predict([encoder_input, decoder_input], verbose=0)\n",
    "        next_token_id = np.argmax(predictions[0, -1, :])  # get last token prediction\n",
    "        if next_token_id == EOS_ID:  # stop if EOS is generated\n",
    "            break\n",
    "        decoder_input = np.append(decoder_input, [[next_token_id]], axis=1)\n",
    "\n",
    "    return decoder_input[0]  # return as flat array of token IDs\n"
   ]
  },
  {
   "cell_type": "markdown",
   "metadata": {},
   "source": [
    "### Results\n",
    "In the following code I evaluate the model's performance on the given `test` function which returns excellent results:\n",
    "- score: 1.0\n",
    "- std: 0.0\n",
    "\n",
    "This means that the model is able to generate the correct postfix expression for the given infix expression with a perfect match."
   ]
  },
  {
   "cell_type": "code",
   "execution_count": 12,
   "metadata": {},
   "outputs": [
    {
     "name": "stdout",
     "output_type": "stream",
     "text": [
      "round= 0\n"
     ]
    },
    {
     "name": "stderr",
     "output_type": "stream",
     "text": [
      "/home/enrico/Desktop/Infix-to-postfix-notation/.venv/lib/python3.12/site-packages/keras/src/layers/layer.py:965: UserWarning: Layer 'positional_encoding' (of type PositionalEncoding) was passed an input with a mask attached to it. However, this layer does not support masking and will therefore destroy the mask information. Downstream layers will not see the mask.\n",
      "  warnings.warn(\n",
      "/home/enrico/Desktop/Infix-to-postfix-notation/.venv/lib/python3.12/site-packages/keras/src/layers/layer.py:965: UserWarning: Layer 'positional_encoding_1' (of type PositionalEncoding) was passed an input with a mask attached to it. However, this layer does not support masking and will therefore destroy the mask information. Downstream layers will not see the mask.\n",
      "  warnings.warn(\n",
      "/home/enrico/Desktop/Infix-to-postfix-notation/.venv/lib/python3.12/site-packages/keras/src/ops/nn.py:944: UserWarning: You are using a softmax over axis 3 of a tensor of shape (1, 4, 1, 1). This axis has size 1. The softmax operation will always return the value 1, which is likely not what you intended. Did you mean to use a sigmoid instead?\n",
      "  warnings.warn(\n",
      "2025-06-12 08:53:56.485624: I external/local_xla/xla/stream_executor/cuda/subprocess_compilation.cc:346] ptxas warning : Registers are spilled to local memory in function 'gemm_fusion_dot_24', 8 bytes spill stores, 8 bytes spill loads\n",
      "\n",
      "2025-06-12 08:53:56.719073: I external/local_xla/xla/stream_executor/cuda/subprocess_compilation.cc:346] ptxas warning : Registers are spilled to local memory in function 'gemm_fusion_dot_25', 8 bytes spill stores, 8 bytes spill loads\n",
      "\n",
      "2025-06-12 08:53:57.069536: I external/local_xla/xla/stream_executor/cuda/subprocess_compilation.cc:346] ptxas warning : Registers are spilled to local memory in function 'gemm_fusion_dot_10', 12 bytes spill stores, 12 bytes spill loads\n",
      "\n",
      "2025-06-12 08:53:57.079053: I external/local_xla/xla/stream_executor/cuda/subprocess_compilation.cc:346] ptxas warning : Registers are spilled to local memory in function 'gemm_fusion_dot_10', 4 bytes spill stores, 4 bytes spill loads\n",
      "\n"
     ]
    },
    {
     "name": "stdout",
     "output_type": "stream",
     "text": [
      "round= 1\n",
      "round= 2\n",
      "round= 3\n",
      "round= 4\n",
      "round= 5\n",
      "round= 6\n",
      "round= 7\n",
      "round= 8\n",
      "round= 9\n",
      "score= 1.0 std= 0.0\n"
     ]
    }
   ],
   "source": [
    "def test(no=20,rounds=10):\n",
    "  rscores =[]\n",
    "  for i in range(rounds):\n",
    "    print(\"round=\",i)\n",
    "    X_test, Y_test = generate_dataset(no)\n",
    "    scores = []\n",
    "    for j in range(no):\n",
    "      encoder_input=X_test[j]\n",
    "      generated = autoregressive_decode(model, encoder_input)[1:] #remove SOS\n",
    "      scores.append(prefix_accuracy_single(Y_test[j], generated, id_to_token))\n",
    "    rscores.append(np.mean(scores))\n",
    "  return np.mean(rscores),np.std(rscores)\n",
    "\n",
    "res, std = test(20,10)\n",
    "print(\"score=\",res,\"std=\",std)"
   ]
  },
  {
   "cell_type": "markdown",
   "metadata": {
    "id": "AxxXPqKQ86fZ"
   },
   "source": [
    "Be sure to evalutate the generator: your model may only take as input the expression in infix format and return its translation to postifix.\n",
    "\n",
    "If you are usuing an encoder-decoder model, generation must be done autoregressively."
   ]
  },
  {
   "cell_type": "markdown",
   "metadata": {
    "id": "aOBottQI9o1h"
   },
   "source": [
    "# What to deliver\n",
    "\n",
    "As usual you are supposed to deliver a single notebook witten in Keras. You are auhtorized to use Keras3 with pytorch as backend if your prefer.\n",
    "\n",
    "Do no upload a zip file: the submission will be rejected.\n",
    "\n",
    "The python notebook should have a clear documentation of the training phase, possibly with its history.\n",
    "\n",
    "You should be able to provide the network paramters upon request. Even better, consider a way to upload them inside your notebook using gdown."
   ]
  }
 ],
 "metadata": {
  "colab": {
   "machine_shape": "hm",
   "provenance": []
  },
  "kernelspec": {
   "display_name": ".venv",
   "language": "python",
   "name": "python3"
  },
  "language_info": {
   "codemirror_mode": {
    "name": "ipython",
    "version": 3
   },
   "file_extension": ".py",
   "mimetype": "text/x-python",
   "name": "python",
   "nbconvert_exporter": "python",
   "pygments_lexer": "ipython3",
   "version": "3.12.3"
  }
 },
 "nbformat": 4,
 "nbformat_minor": 0
}
